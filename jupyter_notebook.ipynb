{
 "cells": [
  {
   "cell_type": "code",
   "execution_count": 2,
   "metadata": {},
   "outputs": [
    {
     "data": {
      "text/html": [
       "<style>.container { width:100% !important; }</style>"
      ],
      "text/plain": [
       "<IPython.core.display.HTML object>"
      ]
     },
     "metadata": {},
     "output_type": "display_data"
    }
   ],
   "source": [
    "import numpy as np\n",
    "from astropy.timeseries import TimeSeries\n",
    "import os\n",
    "import matplotlib.pyplot as plt\n",
    "import argparse\n",
    "from astropy.time import Time, TimeDelta\n",
    "from astropy import units as u\n",
    "from IPython.core.display import display, HTML\n",
    "import celerite\n",
    "from celerite import terms\n",
    "import corner\n",
    "from scipy.optimize import minimize\n",
    "import emcee\n",
    "display(HTML(\"<style>.container { width:100% !important; }</style>\"))\n",
    "# format #Time    \tT_+ve   \tT_-ve   \tRate    \tRatepos \tRateneg\tHR      \tHRerr   \n",
    "#23908.258\t23787.69\t-23787.69\t0.1172494\t0.007794342\t-0.007794342\t2.942098\t0.452518\n",
    "def draw_arrows(x, y, color, ax=None):\n",
    "    for i in np.arange(1, len(x)):\n",
    "        if ax==None:\n",
    "            plt.annotate(\"\", xy=(x[i-1],y[i-1]), xytext=(x[i], y[i]), arrowprops=dict(arrowstyle=\"<-\", shrinkA=10, shrinkB=10, color=color))\n",
    "        else:\n",
    "            ax.annotate(\"\", xy=(x[i-1],y[i-1]), xytext=(x[i], y[i]), arrowprops=dict(arrowstyle=\"<-\", shrinkA=10, shrinkB=10, color=color))\n"
   ]
  },
  {
   "cell_type": "code",
   "execution_count": 2,
   "metadata": {},
   "outputs": [
    {
     "ename": "OSError",
     "evalue": "/home/agurpide/x_ray_data/NGC5204X-1/swift_data/USERPROD_90.76.134.147_1585759247813/lc/countrate_hr.txt not found.",
     "output_type": "error",
     "traceback": [
      "\u001b[0;31m---------------------------------------------------------------------------\u001b[0m",
      "\u001b[0;31mOSError\u001b[0m                                   Traceback (most recent call last)",
      "\u001b[0;32m<ipython-input-2-3d37898a21ea>\u001b[0m in \u001b[0;36m<module>\u001b[0;34m\u001b[0m\n\u001b[1;32m     11\u001b[0m \u001b[0;31m#in_dir =\"%s/x_ray_data/NGC1313X-1/swift_data/USERPROD_90.76.134.147_1585559104874/lc\" % home\u001b[0m\u001b[0;34m\u001b[0m\u001b[0;34m\u001b[0m\u001b[0;34m\u001b[0m\u001b[0m\n\u001b[1;32m     12\u001b[0m data = np.genfromtxt(\"%s/countrate_hr.txt\" % in_dir, names=True, \n\u001b[0;32m---> 13\u001b[0;31m               delimiter=\"\\t\", dtype=(\"f8\", \"f8\", \"f8\", \"f8\", \"f8\", \"f8\", \"f8\", \"f8\"))\n\u001b[0m\u001b[1;32m     14\u001b[0m \u001b[0mplt\u001b[0m\u001b[0;34m.\u001b[0m\u001b[0mstyle\u001b[0m\u001b[0;34m.\u001b[0m\u001b[0muse\u001b[0m\u001b[0;34m(\u001b[0m\u001b[0;34m'/home/agurpide/.config/matplotlib/stylelib/paper.mplstyle'\u001b[0m\u001b[0;34m)\u001b[0m\u001b[0;34m\u001b[0m\u001b[0;34m\u001b[0m\u001b[0m\n",
      "\u001b[0;32m~/anaconda3/lib/python3.7/site-packages/numpy/lib/npyio.py\u001b[0m in \u001b[0;36mgenfromtxt\u001b[0;34m(fname, dtype, comments, delimiter, skip_header, skip_footer, converters, missing_values, filling_values, usecols, names, excludelist, deletechars, replace_space, autostrip, case_sensitive, defaultfmt, unpack, usemask, loose, invalid_raise, max_rows, encoding)\u001b[0m\n\u001b[1;32m   1770\u001b[0m             \u001b[0mfname\u001b[0m \u001b[0;34m=\u001b[0m \u001b[0mos_fspath\u001b[0m\u001b[0;34m(\u001b[0m\u001b[0mfname\u001b[0m\u001b[0;34m)\u001b[0m\u001b[0;34m\u001b[0m\u001b[0;34m\u001b[0m\u001b[0m\n\u001b[1;32m   1771\u001b[0m         \u001b[0;32mif\u001b[0m \u001b[0misinstance\u001b[0m\u001b[0;34m(\u001b[0m\u001b[0mfname\u001b[0m\u001b[0;34m,\u001b[0m \u001b[0mbasestring\u001b[0m\u001b[0;34m)\u001b[0m\u001b[0;34m:\u001b[0m\u001b[0;34m\u001b[0m\u001b[0;34m\u001b[0m\u001b[0m\n\u001b[0;32m-> 1772\u001b[0;31m             \u001b[0mfid\u001b[0m \u001b[0;34m=\u001b[0m \u001b[0mnp\u001b[0m\u001b[0;34m.\u001b[0m\u001b[0mlib\u001b[0m\u001b[0;34m.\u001b[0m\u001b[0m_datasource\u001b[0m\u001b[0;34m.\u001b[0m\u001b[0mopen\u001b[0m\u001b[0;34m(\u001b[0m\u001b[0mfname\u001b[0m\u001b[0;34m,\u001b[0m \u001b[0;34m'rt'\u001b[0m\u001b[0;34m,\u001b[0m \u001b[0mencoding\u001b[0m\u001b[0;34m=\u001b[0m\u001b[0mencoding\u001b[0m\u001b[0;34m)\u001b[0m\u001b[0;34m\u001b[0m\u001b[0;34m\u001b[0m\u001b[0m\n\u001b[0m\u001b[1;32m   1773\u001b[0m             \u001b[0mfid_ctx\u001b[0m \u001b[0;34m=\u001b[0m \u001b[0mcontextlib\u001b[0m\u001b[0;34m.\u001b[0m\u001b[0mclosing\u001b[0m\u001b[0;34m(\u001b[0m\u001b[0mfid\u001b[0m\u001b[0;34m)\u001b[0m\u001b[0;34m\u001b[0m\u001b[0;34m\u001b[0m\u001b[0m\n\u001b[1;32m   1774\u001b[0m         \u001b[0;32melse\u001b[0m\u001b[0;34m:\u001b[0m\u001b[0;34m\u001b[0m\u001b[0;34m\u001b[0m\u001b[0m\n",
      "\u001b[0;32m~/anaconda3/lib/python3.7/site-packages/numpy/lib/_datasource.py\u001b[0m in \u001b[0;36mopen\u001b[0;34m(path, mode, destpath, encoding, newline)\u001b[0m\n\u001b[1;32m    267\u001b[0m \u001b[0;34m\u001b[0m\u001b[0m\n\u001b[1;32m    268\u001b[0m     \u001b[0mds\u001b[0m \u001b[0;34m=\u001b[0m \u001b[0mDataSource\u001b[0m\u001b[0;34m(\u001b[0m\u001b[0mdestpath\u001b[0m\u001b[0;34m)\u001b[0m\u001b[0;34m\u001b[0m\u001b[0;34m\u001b[0m\u001b[0m\n\u001b[0;32m--> 269\u001b[0;31m     \u001b[0;32mreturn\u001b[0m \u001b[0mds\u001b[0m\u001b[0;34m.\u001b[0m\u001b[0mopen\u001b[0m\u001b[0;34m(\u001b[0m\u001b[0mpath\u001b[0m\u001b[0;34m,\u001b[0m \u001b[0mmode\u001b[0m\u001b[0;34m,\u001b[0m \u001b[0mencoding\u001b[0m\u001b[0;34m=\u001b[0m\u001b[0mencoding\u001b[0m\u001b[0;34m,\u001b[0m \u001b[0mnewline\u001b[0m\u001b[0;34m=\u001b[0m\u001b[0mnewline\u001b[0m\u001b[0;34m)\u001b[0m\u001b[0;34m\u001b[0m\u001b[0;34m\u001b[0m\u001b[0m\n\u001b[0m\u001b[1;32m    270\u001b[0m \u001b[0;34m\u001b[0m\u001b[0m\n\u001b[1;32m    271\u001b[0m \u001b[0;34m\u001b[0m\u001b[0m\n",
      "\u001b[0;32m~/anaconda3/lib/python3.7/site-packages/numpy/lib/_datasource.py\u001b[0m in \u001b[0;36mopen\u001b[0;34m(self, path, mode, encoding, newline)\u001b[0m\n\u001b[1;32m    621\u001b[0m                                       encoding=encoding, newline=newline)\n\u001b[1;32m    622\u001b[0m         \u001b[0;32melse\u001b[0m\u001b[0;34m:\u001b[0m\u001b[0;34m\u001b[0m\u001b[0;34m\u001b[0m\u001b[0m\n\u001b[0;32m--> 623\u001b[0;31m             \u001b[0;32mraise\u001b[0m \u001b[0mIOError\u001b[0m\u001b[0;34m(\u001b[0m\u001b[0;34m\"%s not found.\"\u001b[0m \u001b[0;34m%\u001b[0m \u001b[0mpath\u001b[0m\u001b[0;34m)\u001b[0m\u001b[0;34m\u001b[0m\u001b[0;34m\u001b[0m\u001b[0m\n\u001b[0m\u001b[1;32m    624\u001b[0m \u001b[0;34m\u001b[0m\u001b[0m\n\u001b[1;32m    625\u001b[0m \u001b[0;34m\u001b[0m\u001b[0m\n",
      "\u001b[0;31mOSError\u001b[0m: /home/agurpide/x_ray_data/NGC5204X-1/swift_data/USERPROD_90.76.134.147_1585759247813/lc/countrate_hr.txt not found."
     ]
    }
   ],
   "source": [
    "#ap = argparse.ArgumentParser(description='Clean line maps by thresholding them with the SNR maps')\n",
    "#ap.add_argument(\"-b\", \"--binning\", nargs='?', help=\"Binning in days for the plot. Default does not apply any binning (i.e. one observation per datapoint)\", type=str, default=\"1\")\n",
    "#args = ap.parse_args()\n",
    "#binning = args.binning\n",
    "binning = 365 * 1 * 24 * 3600\n",
    "# 2 weeks\n",
    "time_threshold = 4 * 7 * 24 * 3600\n",
    "home = os.getenv(\"HOME\")\n",
    "#in_dir = \"%s/x_ray_data/holmbergIIX1/swift_data/USERPROD_90.76.134.147_1585306008859/lc\" % home\n",
    "in_dir = \"%s/x_ray_data/NGC5204X-1/swift_data/USERPROD_90.76.134.147_1585759247813/lc\" % home\n",
    "#in_dir =\"%s/x_ray_data/NGC1313X-1/swift_data/USERPROD_90.76.134.147_1585559104874/lc\" % home\n",
    "data = np.genfromtxt(\"%s/countrate_hr.txt\" % in_dir, names=True, \n",
    "              delimiter=\"\\t\", dtype=(\"f8\", \"f8\", \"f8\", \"f8\", \"f8\", \"f8\", \"f8\", \"f8\"))\n",
    "plt.style.use('/home/agurpide/.config/matplotlib/stylelib/paper.mplstyle')"
   ]
  },
  {
   "cell_type": "code",
   "execution_count": 3,
   "metadata": {},
   "outputs": [
    {
     "ename": "NameError",
     "evalue": "name 'data' is not defined",
     "output_type": "error",
     "traceback": [
      "\u001b[0;31m---------------------------------------------------------------------------\u001b[0m",
      "\u001b[0;31mNameError\u001b[0m                                 Traceback (most recent call last)",
      "\u001b[0;32m<ipython-input-3-62ff6638de9b>\u001b[0m in \u001b[0;36m<module>\u001b[0;34m\u001b[0m\n\u001b[1;32m      5\u001b[0m     \u001b[0mplt\u001b[0m\u001b[0;34m.\u001b[0m\u001b[0merrorbar\u001b[0m\u001b[0;34m(\u001b[0m\u001b[0mdata\u001b[0m\u001b[0;34m[\u001b[0m\u001b[0;34m\"HR\"\u001b[0m\u001b[0;34m]\u001b[0m\u001b[0;34m,\u001b[0m \u001b[0mdata\u001b[0m\u001b[0;34m[\u001b[0m\u001b[0;34m\"Rate\"\u001b[0m\u001b[0;34m]\u001b[0m\u001b[0;34m,\u001b[0m \u001b[0mxerr\u001b[0m\u001b[0;34m=\u001b[0m\u001b[0mdata\u001b[0m\u001b[0;34m[\u001b[0m\u001b[0;34m\"HRerr\"\u001b[0m\u001b[0;34m]\u001b[0m\u001b[0;34m,\u001b[0m \u001b[0myerr\u001b[0m\u001b[0;34m=\u001b[0m\u001b[0;34m[\u001b[0m\u001b[0;34m-\u001b[0m\u001b[0mdata\u001b[0m\u001b[0;34m[\u001b[0m\u001b[0;34m\"Rateneg\"\u001b[0m\u001b[0;34m]\u001b[0m\u001b[0;34m,\u001b[0m \u001b[0mdata\u001b[0m\u001b[0;34m[\u001b[0m\u001b[0;34m\"Ratepos\"\u001b[0m\u001b[0;34m]\u001b[0m\u001b[0;34m]\u001b[0m\u001b[0;34m,\u001b[0m \u001b[0mls\u001b[0m\u001b[0;34m=\u001b[0m\u001b[0;34m\"None\"\u001b[0m\u001b[0;34m,\u001b[0m \u001b[0mfmt\u001b[0m\u001b[0;34m=\u001b[0m\u001b[0;34m\"-\"\u001b[0m\u001b[0;34m,\u001b[0m \u001b[0mcolor\u001b[0m\u001b[0;34m=\u001b[0m\u001b[0;34m\"black\"\u001b[0m\u001b[0;34m)\u001b[0m\u001b[0;34m\u001b[0m\u001b[0;34m\u001b[0m\u001b[0m\n\u001b[1;32m      6\u001b[0m \u001b[0;32melse\u001b[0m\u001b[0;34m:\u001b[0m\u001b[0;34m\u001b[0m\u001b[0;34m\u001b[0m\u001b[0m\n\u001b[0;32m----> 7\u001b[0;31m     \u001b[0minit\u001b[0m \u001b[0;34m=\u001b[0m \u001b[0mdata\u001b[0m\u001b[0;34m[\u001b[0m\u001b[0;34m\"Time\"\u001b[0m\u001b[0;34m]\u001b[0m\u001b[0;34m[\u001b[0m\u001b[0;36m0\u001b[0m\u001b[0;34m]\u001b[0m\u001b[0;34m\u001b[0m\u001b[0;34m\u001b[0m\u001b[0m\n\u001b[0m\u001b[1;32m      8\u001b[0m     \u001b[0mend\u001b[0m \u001b[0;34m=\u001b[0m \u001b[0mdata\u001b[0m\u001b[0;34m[\u001b[0m\u001b[0;34m\"Time\"\u001b[0m\u001b[0;34m]\u001b[0m\u001b[0;34m[\u001b[0m\u001b[0;34m-\u001b[0m\u001b[0;36m1\u001b[0m\u001b[0;34m]\u001b[0m\u001b[0;34m\u001b[0m\u001b[0;34m\u001b[0m\u001b[0m\n\u001b[1;32m      9\u001b[0m     \u001b[0mstep\u001b[0m \u001b[0;34m=\u001b[0m \u001b[0minit\u001b[0m\u001b[0;34m\u001b[0m\u001b[0;34m\u001b[0m\u001b[0m\n",
      "\u001b[0;31mNameError\u001b[0m: name 'data' is not defined"
     ]
    }
   ],
   "source": [
    "%matplotlib qt\n",
    "plt.xlabel(\"HR [1.5 - 10 keV] / [0.3 - 1.5 keV]\")\n",
    "plt.ylabel(\"Count rate (0.3 - 10 keV) s$^-1$\")\n",
    "if binning==1:\n",
    "    plt.errorbar(data[\"HR\"], data[\"Rate\"], xerr=data[\"HRerr\"], yerr=[-data[\"Rateneg\"], data[\"Ratepos\"]], ls=\"None\", fmt=\"-\", color=\"black\")\n",
    "else:\n",
    "    init = data[\"Time\"][0]\n",
    "    end = data[\"Time\"][-1]\n",
    "    step = init\n",
    "    \n",
    "    while step < end:\n",
    "        data_to_plot = data[np.where((data[\"Time\"]>=step) & (data[\"Time\"]<(step+binning)))]\n",
    "        if len(data_to_plot[\"Time\"]) == 0:\n",
    "            step += binning\n",
    "            continue\n",
    "        plt.errorbar(data_to_plot[\"HR\"], data_to_plot[\"Rate\"], xerr=data_to_plot[\"HRerr\"], yerr=[-data_to_plot[\"Rateneg\"], data_to_plot[\"Ratepos\"]], ls=\"None\", fmt=\"-\")\n",
    "        step += binning\n",
    "        \n",
    "        print(step)\n",
    "        "
   ]
  },
  {
   "cell_type": "code",
   "execution_count": 4,
   "metadata": {
    "scrolled": true
   },
   "outputs": [
    {
     "ename": "SyntaxError",
     "evalue": "invalid syntax (<ipython-input-4-17ace8abd2da>, line 9)",
     "output_type": "error",
     "traceback": [
      "\u001b[0;36m  File \u001b[0;32m\"<ipython-input-4-17ace8abd2da>\"\u001b[0;36m, line \u001b[0;32m9\u001b[0m\n\u001b[0;31m    for time, j enumerate(data[\"Time\"]):\u001b[0m\n\u001b[0m                        ^\u001b[0m\n\u001b[0;31mSyntaxError\u001b[0m\u001b[0;31m:\u001b[0m invalid syntax\n"
     ]
    }
   ],
   "source": [
    "%matplotlib inline\n",
    "plt.xlabel(\"HR [1.5 - 10 keV] / [0.3 - 1.5 keV]\")\n",
    "plt.ylabel(\"Count rate (0.3 - 10 keV) s$^-1$\")\n",
    "if binning==1:\n",
    "    plt.errorbar(data[\"HR\"], data[\"Rate\"], xerr=data[\"HRerr\"], yerr=[-data[\"Rateneg\"], data[\"Ratepos\"]], ls=\"None\", fmt=\"-\", color=\"black\")\n",
    "else:\n",
    "    # create groups\n",
    "    i = 0\n",
    "    for time, j enumerate(data[\"Time\"]):\n",
    "        while (data[\"Time\"][i] - data[\"Time\"][i+1]) < time_thresold:\n",
    "            i+=1\n",
    "        plt.errorbar(data[\"HR\"][j:i], data[\"Rate\"][j:i], xerr=data[\"HRerr\"][j:i],\n",
    "                     yerr=[-data[\"Rateneg\"][j:i], data[\"Ratepos\"][j:i]], ls=\"None\", marker=\".\", errorevery=5, markersize=5)\n",
    "        \n",
    "            \n",
    "            # new group\n",
    "            data_to_plot = data[np.where((data[\"Time\"]>=step) & (data[\"Time\"]<(step + binning)))[0]]\n",
    "    # accumulate\n",
    "    \n",
    "    init = data[\"Time\"][0]\n",
    "    end = data[\"Time\"][-1]\n",
    "    step = init\n",
    "    prop_cycle = plt.rcParams['axes.prop_cycle']\n",
    "    colors = prop_cycle.by_key()['color']\n",
    "    color_index = 0\n",
    "    while step < end:\n",
    "        data_to_plot = data[np.where((data[\"Time\"]>=step) & (data[\"Time\"]<(step + binning)))[0]]\n",
    "        \n",
    "        if len(data_to_plot[\"Time\"]) < 5:\n",
    "            step += binning\n",
    "            continue\n",
    "        plt.errorbar(data_to_plot[\"HR\"], data_to_plot[\"Rate\"], xerr=data_to_plot[\"HRerr\"],\n",
    "                     yerr=[-data_to_plot[\"Rateneg\"], data_to_plot[\"Ratepos\"]], ls=\"None\", marker=\".\", errorevery=5, markersize=5)\n",
    "        \n",
    "        draw_arrows(data_to_plot[\"HR\"], data_to_plot[\"Rate\"], color=colors[color_index])\n",
    "        plt.show()\n",
    "        color_index +=1\n",
    "        step += binning\n",
    "    print(step)\n",
    "    print(end)"
   ]
  },
  {
   "cell_type": "code",
   "execution_count": 8,
   "metadata": {},
   "outputs": [
    {
     "name": "stdout",
     "output_type": "stream",
     "text": [
      "4657573406.9\n",
      "Less than 5 datapoints (1). Skipping\n",
      "Less than 5 datapoints (2). Skipping\n",
      "12 datapoints\n",
      "17 datapoints\n",
      "Less than 5 datapoints (2). Skipping\n",
      "114 datapoints\n",
      "70 datapoints\n",
      "50 datapoints\n",
      "20 datapoints\n",
      "11 datapoints\n",
      "25 datapoints\n",
      "21 datapoints\n",
      "9 datapoints\n",
      "End reached\n",
      "8 datapoints\n"
     ]
    },
    {
     "ename": "IndexError",
     "evalue": "list index out of range",
     "output_type": "error",
     "traceback": [
      "\u001b[0;31m---------------------------------------------------------------------------\u001b[0m",
      "\u001b[0;31mIndexError\u001b[0m                                Traceback (most recent call last)",
      "\u001b[0;32m<ipython-input-8-3686233f784d>\u001b[0m in \u001b[0;36m<module>\u001b[0;34m\u001b[0m\n\u001b[1;32m     49\u001b[0m                      \u001b[0myerr\u001b[0m\u001b[0;34m=\u001b[0m\u001b[0;34m[\u001b[0m\u001b[0;34m-\u001b[0m\u001b[0mdata\u001b[0m\u001b[0;34m[\u001b[0m\u001b[0;34m\"Rateneg\"\u001b[0m\u001b[0;34m]\u001b[0m\u001b[0;34m[\u001b[0m\u001b[0mj\u001b[0m\u001b[0;34m:\u001b[0m\u001b[0mi\u001b[0m\u001b[0;34m]\u001b[0m\u001b[0;34m,\u001b[0m \u001b[0mdata\u001b[0m\u001b[0;34m[\u001b[0m\u001b[0;34m\"Ratepos\"\u001b[0m\u001b[0;34m]\u001b[0m\u001b[0;34m[\u001b[0m\u001b[0mj\u001b[0m\u001b[0;34m:\u001b[0m\u001b[0mi\u001b[0m\u001b[0;34m]\u001b[0m\u001b[0;34m]\u001b[0m\u001b[0;34m,\u001b[0m \u001b[0mls\u001b[0m\u001b[0;34m=\u001b[0m\u001b[0;34m\"None\"\u001b[0m\u001b[0;34m,\u001b[0m \u001b[0mmarker\u001b[0m\u001b[0;34m=\u001b[0m\u001b[0;34m\".\"\u001b[0m\u001b[0;34m,\u001b[0m \u001b[0merrorevery\u001b[0m\u001b[0;34m=\u001b[0m\u001b[0;36m8\u001b[0m\u001b[0;34m,\u001b[0m \u001b[0mmarkersize\u001b[0m\u001b[0;34m=\u001b[0m\u001b[0;36m8\u001b[0m\u001b[0;34m,\u001b[0m \u001b[0melinewidth\u001b[0m\u001b[0;34m=\u001b[0m\u001b[0;36m0.5\u001b[0m\u001b[0;34m,\u001b[0m\u001b[0;34m\u001b[0m\u001b[0;34m\u001b[0m\u001b[0m\n\u001b[1;32m     50\u001b[0m                          label=\"%d %.1f d (%d) %s\" %(chunk+1, float(data[\"Time\"][i]-data[\"Time\"][j])/3600/24, accumulated_datapoints, time_todate(swift_zero_point.mjd + float(data[\"Time\"][j])/3600/24).value))\n\u001b[0;32m---> 51\u001b[0;31m             \u001b[0mdraw_arrows\u001b[0m\u001b[0;34m(\u001b[0m\u001b[0mdata\u001b[0m\u001b[0;34m[\u001b[0m\u001b[0;34m\"HR\"\u001b[0m\u001b[0;34m]\u001b[0m\u001b[0;34m[\u001b[0m\u001b[0mj\u001b[0m\u001b[0;34m:\u001b[0m\u001b[0mi\u001b[0m\u001b[0;34m]\u001b[0m\u001b[0;34m,\u001b[0m \u001b[0mdata\u001b[0m\u001b[0;34m[\u001b[0m\u001b[0;34m\"Rate\"\u001b[0m\u001b[0;34m]\u001b[0m\u001b[0;34m[\u001b[0m\u001b[0mj\u001b[0m\u001b[0;34m:\u001b[0m\u001b[0mi\u001b[0m\u001b[0;34m]\u001b[0m\u001b[0;34m,\u001b[0m \u001b[0mcolor\u001b[0m\u001b[0;34m=\u001b[0m\u001b[0mcolors\u001b[0m\u001b[0;34m[\u001b[0m\u001b[0mchunk\u001b[0m\u001b[0;34m]\u001b[0m\u001b[0;34m)\u001b[0m\u001b[0;34m\u001b[0m\u001b[0;34m\u001b[0m\u001b[0m\n\u001b[0m\u001b[1;32m     52\u001b[0m             \u001b[0mi\u001b[0m \u001b[0;34m+=\u001b[0m \u001b[0;36m1\u001b[0m\u001b[0;34m\u001b[0m\u001b[0;34m\u001b[0m\u001b[0m\n\u001b[1;32m     53\u001b[0m             \u001b[0mj\u001b[0m \u001b[0;34m=\u001b[0m \u001b[0mi\u001b[0m\u001b[0;34m\u001b[0m\u001b[0;34m\u001b[0m\u001b[0m\n",
      "\u001b[0;31mIndexError\u001b[0m: list index out of range"
     ]
    },
    {
     "name": "stderr",
     "output_type": "stream",
     "text": [
      "/home/agurpide/anaconda3/lib/python3.7/site-packages/ipykernel/eventloops.py:106: UserWarning: Tight layout not applied. The bottom and top margins cannot be made large enough to accommodate all axes decorations. \n",
      "  app.exec_()\n"
     ]
    }
   ],
   "source": [
    "%matplotlib qt\n",
    "plt.xlabel(\"HR [1.5 - 10 keV] / [0.3 - 1.5 keV]\")\n",
    "plt.ylabel(\"Count rate (0.3 - 10 keV) s$^-1$\")\n",
    "min_points = 5\n",
    "# get source distance\n",
    "f = open(\"%s/../zero-point.txt\" % in_dir)\n",
    "lines = f.readlines()\n",
    "f.close()\n",
    "zero_point = float(lines[0])\n",
    "# first of january of 2001 in mjdr + zero_poin to days\n",
    "swift_ref_time = Time(51910 , format=\"mjd\", scale=\"tt\")\n",
    "swift_zero_point = Time(swift_ref_time.mjd + zero_point / 24 / 3600, format=\"mjd\", scale=\"tt\")\n",
    "print(swift_zero_point.mjd * 24 * 3600)\n",
    "\n",
    "def time_todate(x):\n",
    "    time = Time(x, format='mjd', scale=\"tt\")\n",
    "    time.format = \"iso\"\n",
    "    time.out_subfmt = 'date'\n",
    "    return time\n",
    "\n",
    "if binning==1:\n",
    "    plt.errorbar(data[\"HR\"], data[\"Rate\"], xerr=data[\"HRerr\"], yerr=[-data[\"Rateneg\"], data[\"Ratepos\"]], ls=\"None\", fmt=\"-\", color=\"black\")\n",
    "else:\n",
    "    # create groups\n",
    "    i = 0\n",
    "    j = 0\n",
    "    chunk = 0\n",
    "    prop_cycle = plt.rcParams['axes.prop_cycle']\n",
    "    colors = prop_cycle.by_key()['color']\n",
    "    while j < len(data[\"Time\"]):\n",
    "        if i==len(data[\"Time\"]) - 1:\n",
    "                print(\"End reached\")\n",
    "                break\n",
    "        while ((abs(data[\"Time\"][i] - data[\"Time\"][i+1])) < time_threshold):   \n",
    "            i += 1\n",
    "            \n",
    "            if i==len(data[\"Time\"]) - 1:\n",
    "                print(\"End reached\")\n",
    "                break\n",
    "            \n",
    "        accumulated_datapoints = (i-j + 1)\n",
    "        if accumulated_datapoints < min_points:\n",
    "            print(\"Less than %d datapoints (%d). Skipping\" % (min_points, accumulated_datapoints))\n",
    "            i += 1\n",
    "            j = i\n",
    "        else:\n",
    "            print(\"%d datapoints\" % accumulated_datapoints)\n",
    "            plt.errorbar(data[\"HR\"][j:i], data[\"Rate\"][j:i], xerr=data[\"HRerr\"][j:i],\n",
    "                     yerr=[-data[\"Rateneg\"][j:i], data[\"Ratepos\"][j:i]], ls=\"None\", marker=\".\", errorevery=8, markersize=8, elinewidth=0.5,\n",
    "                         label=\"%d %.1f d (%d) %s\" %(chunk+1, float(data[\"Time\"][i]-data[\"Time\"][j])/3600/24, accumulated_datapoints, time_todate(swift_zero_point.mjd + float(data[\"Time\"][j])/3600/24).value))\n",
    "            draw_arrows(data[\"HR\"][j:i], data[\"Rate\"][j:i], color=colors[chunk])\n",
    "            i += 1\n",
    "            j = i\n",
    "            chunk += 1\n",
    "    plt.legend()"
   ]
  },
  {
   "cell_type": "code",
   "execution_count": 9,
   "metadata": {},
   "outputs": [
    {
     "ename": "UnitsError",
     "evalue": "wrap_phase should be a Quantity in units of time when normalize_phase=False",
     "output_type": "error",
     "traceback": [
      "\u001b[0;31m---------------------------------------------------------------------------\u001b[0m",
      "\u001b[0;31mUnitsError\u001b[0m                                Traceback (most recent call last)",
      "\u001b[0;32m<ipython-input-9-0d083cd1c458>\u001b[0m in \u001b[0;36m<module>\u001b[0;34m\u001b[0m\n\u001b[1;32m      6\u001b[0m \u001b[0mtimes\u001b[0m \u001b[0;34m=\u001b[0m \u001b[0mTime\u001b[0m\u001b[0;34m(\u001b[0m\u001b[0mswift_ref_time\u001b[0m\u001b[0;34m.\u001b[0m\u001b[0mmjd\u001b[0m \u001b[0;34m+\u001b[0m \u001b[0mdata\u001b[0m\u001b[0;34m[\u001b[0m\u001b[0;34m\"Time\"\u001b[0m\u001b[0;34m]\u001b[0m\u001b[0;34m/\u001b[0m\u001b[0;36m3600\u001b[0m\u001b[0;34m/\u001b[0m\u001b[0;36m24\u001b[0m\u001b[0;34m,\u001b[0m \u001b[0mformat\u001b[0m\u001b[0;34m=\u001b[0m\u001b[0;34m'mjd'\u001b[0m\u001b[0;34m,\u001b[0m \u001b[0mscale\u001b[0m\u001b[0;34m=\u001b[0m\u001b[0;34m\"tt\"\u001b[0m\u001b[0;34m)\u001b[0m\u001b[0;34m\u001b[0m\u001b[0;34m\u001b[0m\u001b[0m\n\u001b[1;32m      7\u001b[0m \u001b[0mts\u001b[0m \u001b[0;34m=\u001b[0m \u001b[0mTimeSeries\u001b[0m\u001b[0;34m(\u001b[0m\u001b[0;34m{\u001b[0m\u001b[0;34m'countrate'\u001b[0m\u001b[0;34m:\u001b[0m \u001b[0mdata\u001b[0m\u001b[0;34m[\u001b[0m\u001b[0;34m\"Rate\"\u001b[0m\u001b[0;34m]\u001b[0m \u001b[0;34m,\u001b[0m \u001b[0;34m'error'\u001b[0m\u001b[0;34m:\u001b[0m\u001b[0;34m(\u001b[0m\u001b[0;34m(\u001b[0m\u001b[0;34m-\u001b[0m\u001b[0mdata\u001b[0m\u001b[0;34m[\u001b[0m\u001b[0;34m\"Rateneg\"\u001b[0m\u001b[0;34m]\u001b[0m \u001b[0;34m+\u001b[0m \u001b[0mdata\u001b[0m\u001b[0;34m[\u001b[0m\u001b[0;34m\"Ratepos\"\u001b[0m\u001b[0;34m]\u001b[0m\u001b[0;34m)\u001b[0m \u001b[0;34m/\u001b[0m \u001b[0;36m2\u001b[0m\u001b[0;34m)\u001b[0m\u001b[0;34m}\u001b[0m\u001b[0;34m,\u001b[0m \u001b[0mtime\u001b[0m\u001b[0;34m=\u001b[0m\u001b[0mtimes\u001b[0m\u001b[0;34m)\u001b[0m\u001b[0;34m\u001b[0m\u001b[0;34m\u001b[0m\u001b[0m\n\u001b[0;32m----> 8\u001b[0;31m \u001b[0mfolded\u001b[0m \u001b[0;34m=\u001b[0m \u001b[0mts\u001b[0m\u001b[0;34m.\u001b[0m\u001b[0mfold\u001b[0m\u001b[0;34m(\u001b[0m\u001b[0;36m28.5\u001b[0m\u001b[0;34m*\u001b[0m\u001b[0mu\u001b[0m\u001b[0;34m.\u001b[0m\u001b[0mday\u001b[0m\u001b[0;34m,\u001b[0m \u001b[0mwrap_phase\u001b[0m\u001b[0;34m=\u001b[0m\u001b[0;36m1\u001b[0m\u001b[0;34m)\u001b[0m\u001b[0;34m\u001b[0m\u001b[0;34m\u001b[0m\u001b[0m\n\u001b[0m\u001b[1;32m      9\u001b[0m \u001b[0mprint\u001b[0m\u001b[0;34m(\u001b[0m\u001b[0mfolded\u001b[0m\u001b[0;34m)\u001b[0m\u001b[0;34m\u001b[0m\u001b[0;34m\u001b[0m\u001b[0m\n\u001b[1;32m     10\u001b[0m \u001b[0mplt\u001b[0m\u001b[0;34m.\u001b[0m\u001b[0merrorbar\u001b[0m\u001b[0;34m(\u001b[0m\u001b[0mfolded\u001b[0m\u001b[0;34m.\u001b[0m\u001b[0mtime\u001b[0m\u001b[0;34m.\u001b[0m\u001b[0mjd\u001b[0m\u001b[0;34m,\u001b[0m \u001b[0mfolded\u001b[0m\u001b[0;34m[\u001b[0m\u001b[0;34m'countrate'\u001b[0m\u001b[0;34m]\u001b[0m\u001b[0;34m,\u001b[0m \u001b[0myerr\u001b[0m\u001b[0;34m=\u001b[0m\u001b[0mfolded\u001b[0m\u001b[0;34m[\u001b[0m\u001b[0;34m\"error\"\u001b[0m\u001b[0;34m]\u001b[0m\u001b[0;34m,\u001b[0m \u001b[0mls\u001b[0m\u001b[0;34m=\u001b[0m\u001b[0;34m\"None\"\u001b[0m\u001b[0;34m,\u001b[0m \u001b[0mfmt\u001b[0m\u001b[0;34m=\u001b[0m\u001b[0;34m\"-\"\u001b[0m\u001b[0;34m,\u001b[0m \u001b[0mmarker\u001b[0m\u001b[0;34m=\u001b[0m\u001b[0;34m\"o\"\u001b[0m\u001b[0;34m)\u001b[0m\u001b[0;34m\u001b[0m\u001b[0;34m\u001b[0m\u001b[0m\n",
      "\u001b[0;32m~/anaconda3/lib/python3.7/site-packages/astropy/utils/decorators.py\u001b[0m in \u001b[0;36mwrapper\u001b[0;34m(*args, **kwargs)\u001b[0m\n\u001b[1;32m    533\u001b[0m                     \u001b[0mwarnings\u001b[0m\u001b[0;34m.\u001b[0m\u001b[0mwarn\u001b[0m\u001b[0;34m(\u001b[0m\u001b[0mmessage\u001b[0m\u001b[0;34m,\u001b[0m \u001b[0mwarning_type\u001b[0m\u001b[0;34m,\u001b[0m \u001b[0mstacklevel\u001b[0m\u001b[0;34m=\u001b[0m\u001b[0;36m2\u001b[0m\u001b[0;34m)\u001b[0m\u001b[0;34m\u001b[0m\u001b[0;34m\u001b[0m\u001b[0m\n\u001b[1;32m    534\u001b[0m \u001b[0;34m\u001b[0m\u001b[0m\n\u001b[0;32m--> 535\u001b[0;31m             \u001b[0;32mreturn\u001b[0m \u001b[0mfunction\u001b[0m\u001b[0;34m(\u001b[0m\u001b[0;34m*\u001b[0m\u001b[0margs\u001b[0m\u001b[0;34m,\u001b[0m \u001b[0;34m**\u001b[0m\u001b[0mkwargs\u001b[0m\u001b[0;34m)\u001b[0m\u001b[0;34m\u001b[0m\u001b[0;34m\u001b[0m\u001b[0m\n\u001b[0m\u001b[1;32m    536\u001b[0m \u001b[0;34m\u001b[0m\u001b[0m\n\u001b[1;32m    537\u001b[0m         \u001b[0;32mreturn\u001b[0m \u001b[0mwrapper\u001b[0m\u001b[0;34m\u001b[0m\u001b[0;34m\u001b[0m\u001b[0m\n",
      "\u001b[0;32m~/anaconda3/lib/python3.7/site-packages/astropy/timeseries/sampled.py\u001b[0m in \u001b[0;36mfold\u001b[0;34m(self, period, epoch_time, epoch_phase, wrap_phase, normalize_phase)\u001b[0m\n\u001b[1;32m    225\u001b[0m                         \u001b[0mwrap_phase\u001b[0m \u001b[0;34m=\u001b[0m \u001b[0mwrap_phase\u001b[0m\u001b[0;34m.\u001b[0m\u001b[0mto_value\u001b[0m\u001b[0;34m(\u001b[0m\u001b[0mu\u001b[0m\u001b[0;34m.\u001b[0m\u001b[0ms\u001b[0m\u001b[0;34m)\u001b[0m\u001b[0;34m\u001b[0m\u001b[0;34m\u001b[0m\u001b[0m\n\u001b[1;32m    226\u001b[0m                 \u001b[0;32melse\u001b[0m\u001b[0;34m:\u001b[0m\u001b[0;34m\u001b[0m\u001b[0;34m\u001b[0m\u001b[0m\n\u001b[0;32m--> 227\u001b[0;31m                     raise UnitsError('wrap_phase should be a Quantity in units '\n\u001b[0m\u001b[1;32m    228\u001b[0m                                      'of time when normalize_phase=False')\n\u001b[1;32m    229\u001b[0m \u001b[0;34m\u001b[0m\u001b[0m\n",
      "\u001b[0;31mUnitsError\u001b[0m: wrap_phase should be a Quantity in units of time when normalize_phase=False"
     ]
    }
   ],
   "source": [
    "f = open(\"%s/../zero-point.txt\" % in_dir)\n",
    "lines = f.readlines()\n",
    "f.close()\n",
    "zero_point = float(lines[0])\n",
    "swift_ref_time = Time(51910 + zero_point/24/3600, format=\"mjd\", scale=\"tt\")\n",
    "times = Time(swift_ref_time.mjd + data[\"Time\"]/3600/24, format='mjd', scale=\"tt\")\n",
    "ts = TimeSeries({'countrate': data[\"Rate\"] , 'error':((-data[\"Rateneg\"] + data[\"Ratepos\"]) / 2)}, time=times)\n",
    "folded = ts.fold(28.5*u.day, wrap_phase=1)\n",
    "print(folded)\n",
    "plt.errorbar(folded.time.jd, folded['countrate'], yerr=folded[\"error\"], ls=\"None\", fmt=\"-\", marker=\"o\")"
   ]
  },
  {
   "cell_type": "code",
   "execution_count": 18,
   "metadata": {},
   "outputs": [
    {
     "name": "stdout",
     "output_type": "stream",
     "text": [
      "172549406.9\n",
      "\n"
     ]
    },
    {
     "name": "stderr",
     "output_type": "stream",
     "text": [
      "/home/agurpide/anaconda3/lib/python3.7/site-packages/ipykernel/eventloops.py:106: UserWarning: Tight layout not applied. The bottom and top margins cannot be made large enough to accommodate all axes decorations. \n",
      "  app.exec_()\n"
     ]
    }
   ],
   "source": [
    "print(zero_point)\n",
    "%matplotlib qt\n",
    "low_flux = np.array([row for row in data if row[\"Rate\"] < 0.10])\n",
    "low_flux = data\n",
    "plt.errorbar(low_flux[\"Time\"] / 3600 /24, low_flux[\"Rate\"], yerr=[-low_flux[\"Rateneg\"], low_flux[\"Ratepos\"]], ecolor=\"black\", \n",
    "             marker=\".\", ls=\"None\")\n",
    "plt.xlabel(\"Time(days)\")\n",
    "plt.ylabel(\"Count rate [0.3 - 10 keV] ct s$^{-1}$\")\n",
    "threshold_low = 0\n",
    "#threshold_low = 0.17\n",
    "#threshold_low = 0.17\n",
    "#threshold_high = 10\n",
    "threshold_high = 0.20\n",
    "threshold_low = 0.12\n",
    "#threshold_high= 0.10\n",
    "\n",
    "plt.axhline(y=threshold_low, color=\"green\", ls=\"--\")\n",
    "plt.axhline(y=threshold_high, color=\"green\", ls=\"--\")\n",
    "j = 0\n",
    "i = 0\n",
    "string_out = \"\"\n",
    "while j < len(data[\"Time\"]):\n",
    "    if i == (len(data[\"Time\"]) - 1):\n",
    "        print(\"End reached\")\n",
    "        break\n",
    "    rate = data[\"Rate\"][j]\n",
    "    if rate > threshold_low and rate < threshold_high:\n",
    "        print(\"Accumulating observations with rate below %.2f and above %.2f\" % (threshold_high, threshold_low))\n",
    "        i = j\n",
    "        while rate > threshold_low and rate < threshold_high:\n",
    "            if i == (len(data[\"Time\"]) - 1):\n",
    "                print(\"End reached\")\n",
    "                break\n",
    "            i += 1\n",
    "            rate = data[\"Rate\"][i]\n",
    "        \n",
    "        print(\"Accumulated %d observations (%d - %d)\" %( (i-j), data[\"Time\"][j], data[\"Time\"][i-1]))\n",
    "        string_out+= \"%.1f-%.1f,\" %(data[\"Time\"][j], (data[\"Time\"][i-1] + 0.5))\n",
    "        i += 1\n",
    "        j = i\n",
    "    else:\n",
    "        j += 1\n",
    "        #print(\"Skipping observation with rate %.3f\" % rate)\n",
    "print(string_out)"
   ]
  },
  {
   "cell_type": "markdown",
   "metadata": {},
   "source": [
    "## Celerite fit"
   ]
  },
  {
   "cell_type": "code",
   "execution_count": 3,
   "metadata": {},
   "outputs": [],
   "source": [
    "def readPCCURVE(file=\"PCCURVE.qdp\"):\n",
    "    \"\"\"Read PCCURVE from Swift data pipeline.\n",
    "\n",
    "        Parameters\n",
    "        ----------\n",
    "        file: str, optional\n",
    "            The file to be read. Default is PCCURVE.qdp\n",
    "        \"\"\"\n",
    "    print(\"Reading %s data\" % file)\n",
    "    return np.genfromtxt(\"%s\" % file, names=True, delimiter=\"\\t\", skip_header=2, comments=\"!\", dtype=(\"f8, f8, f8, f8, f8, f8, f8, f8, f8, f8, f8, f8, f8, f8, U30\"))\n",
    "\n",
    "\n",
    "def neg_log_like(params, y, gp):\n",
    "    gp.set_parameter_vector(params)\n",
    "    return -gp.log_likelihood(y)\n",
    "\n",
    "def log_probability(params, y, gp):\n",
    "    gp.set_parameter_vector(params)\n",
    "\n",
    "    lp = gp.log_prior()\n",
    "    if not np.isfinite(lp):\n",
    "        return -np.inf\n",
    "\n",
    "    ll = gp.log_likelihood(y)\n",
    "    return ll + lp if np.isfinite(ll) else -np.inf"
   ]
  },
  {
   "cell_type": "code",
   "execution_count": 46,
   "metadata": {},
   "outputs": [
    {
     "name": "stdout",
     "output_type": "stream",
     "text": [
      "Reading /home/agurpide/x_ray_data/NGC5204X-1/swift_data/lc/PCCURVE.qdp data\n"
     ]
    }
   ],
   "source": [
    "count_rate_file = \"PCCURVE.qdp\"\n",
    "data = readPCCURVE(\"/home/agurpide/x_ray_data/NGC5204X-1/swift_data/lc/%s\" % count_rate_file)\n",
    "#data = np.array([row for row in data if row[\"Rate\"] < 0.073])\n",
    "def read_config_file(file):\n",
    "    f = open(file)\n",
    "    lines = f.readlines()\n",
    "    f.close()\n",
    "    param_info = lines[1].split(\"\\t\")\n",
    "    return param_info"
   ]
  },
  {
   "cell_type": "code",
   "execution_count": 51,
   "metadata": {},
   "outputs": [
    {
     "name": "stdout",
     "output_type": "stream",
     "text": [
      "Initial log likelihood: 184.7793390356785\n"
     ]
    }
   ],
   "source": [
    "freeze_omega = False\n",
    "rate = \"Rate\"\n",
    "y = data[\"%s\" % rate]\n",
    "time = data[\"Time\"]\n",
    "yerr = (-data[\"%sneg\" % rate] + data[\"%spos\" % rate]) / 2\n",
    "params = read_config_file(\"/home/agurpide/scripts/swift_scripts/celerite_config/parameters.config\")\n",
    "w = np.log(2 * np.pi /  (np.array(params[0].split(\":\")).astype(float) * 24 * 3600))\n",
    "S_0 = np.log(np.array(params[1].split(\":\")).astype(float))\n",
    "Q = np.log(np.array(params[2].split(\":\")).astype(float))\n",
    "bounds = dict(log_S0=(S_0[0], S_0[2]), log_Q=(Q[0], Q[2]), log_omega0=(w[2], w[0]))\n",
    "kernel = terms.SHOTerm(log_S0=S_0[1], log_Q=Q[1], log_omega0=w[1], bounds=bounds)\n",
    "\n",
    "if freeze_omega:\n",
    "    kernel.freeze_parameter(\"log_omega0\")\n",
    "#kernel.freeze_parameter(\"log_Q\")\n",
    "gp = celerite.GP(kernel, mean=np.mean(data[\"Rate\"]))\n",
    "gp.compute(time, yerr)  # You always need to call compute once.\n",
    "print(\"Initial log likelihood: {0}\".format(gp.log_likelihood(y)))\n",
    "initial_params = gp.get_parameter_vector()\n",
    "bounds = gp.get_parameter_bounds()\n",
    "par_names = gp.get_parameter_names()"
   ]
  },
  {
   "cell_type": "markdown",
   "metadata": {},
   "source": [
    "## FIT"
   ]
  },
  {
   "cell_type": "code",
   "execution_count": 15,
   "metadata": {},
   "outputs": [
    {
     "name": "stdout",
     "output_type": "stream",
     "text": [
      "      fun: -200.92382301146324\n",
      " hess_inv: <3x3 LbfgsInvHessProduct with dtype=float64>\n",
      "      jac: array([ 0.        ,  1.1146426 , -4.83612439])\n",
      "  message: b'CONVERGENCE: NORM_OF_PROJECTED_GRADIENT_<=_PGTOL'\n",
      "     nfev: 48\n",
      "      nit: 9\n",
      "   status: 0\n",
      "  success: True\n",
      "        x: array([  4.36722309,   1.        , -14.53950118])\n",
      "Period = 150.00 d\n",
      "Q factor = 2.72\n"
     ]
    },
    {
     "data": {
      "text/plain": [
       "Text(0, 0.5, 'Residuals')"
      ]
     },
     "execution_count": 15,
     "metadata": {},
     "output_type": "execute_result"
    }
   ],
   "source": [
    "solution = minimize(neg_log_like, initial_params, method=\"L-BFGS-B\", bounds=bounds, args=(y, gp))\n",
    "gp.set_parameter_vector(solution.x)\n",
    "print(solution)\n",
    "params = gp.get_parameter_dict()\n",
    "if not freeze_omega:\n",
    "    print(\"Period = %.2f d\" % (2 * np.pi / (np.exp(params[\"kernel:log_omega0\"]) * 3600 * 24)))\n",
    "print(\"Q factor = %.2f\" % np.exp(params[\"kernel:log_Q\"]))\n",
    "%matplotlib qt\n",
    "figure, (ax1, ax2) = plt.subplots(2 ,1, sharex=True)\n",
    "samples = np.linspace(np.min(time), np.max(time), 5000)\n",
    "pred_mean, pred_var = gp.predict(y, samples, return_var=True)\n",
    "pred_std = np.sqrt(pred_var)\n",
    "color = \"#ff7f0e\"\n",
    "ax1.errorbar(time, y, yerr=yerr, fmt=\".k\", capsize=0)\n",
    "ax1.plot(samples, pred_mean, color=color)\n",
    "ax1.fill_between(samples, pred_mean+pred_std, pred_mean-pred_std, color=color, alpha=0.3,\n",
    "                 edgecolor=\"none\")\n",
    "pred_mean, pred_var = gp.predict(y, time, return_var=True)\n",
    "ax2.errorbar(time, (y - pred_mean) / yerr, yerr=1, fmt=\".k\", capsize=0)\n",
    "ax2.axhline(y=0, ls=\"--\", color=\"#afdbf5\")\n",
    "ax2.set_ylabel(\"Residuals\")"
   ]
  },
  {
   "cell_type": "markdown",
   "metadata": {},
   "source": [
    "## MCMC"
   ]
  },
  {
   "cell_type": "code",
   "execution_count": 79,
   "metadata": {},
   "outputs": [
    {
     "name": "stdout",
     "output_type": "stream",
     "text": [
      "(20, 3)\n",
      "(3,)\n",
      "[[  3.2165999    4.09476481 -14.3903983 ]\n",
      " [  3.2165999    4.09476481 -14.3903983 ]\n",
      " [  3.2165999    4.09476481 -14.3903983 ]\n",
      " [  3.2165999    4.09476481 -14.3903983 ]\n",
      " [  3.2165999    4.09476481 -14.3903983 ]\n",
      " [  3.2165999    4.09476481 -14.3903983 ]\n",
      " [  3.2165999    4.09476481 -14.3903983 ]\n",
      " [  3.2165999    4.09476481 -14.3903983 ]\n",
      " [  3.2165999    4.09476481 -14.3903983 ]\n",
      " [  3.2165999    4.09476481 -14.3903983 ]\n",
      " [  3.2165999    4.09476481 -14.3903983 ]\n",
      " [  3.2165999    4.09476481 -14.3903983 ]\n",
      " [  3.2165999    4.09476481 -14.3903983 ]\n",
      " [  3.2165999    4.09476481 -14.3903983 ]\n",
      " [  3.2165999    4.09476481 -14.3903983 ]\n",
      " [  3.2165999    4.09476481 -14.3903983 ]\n",
      " [  3.2165999    4.09476481 -14.3903983 ]\n",
      " [  3.2165999    4.09476481 -14.3903983 ]\n",
      " [  3.2165999    4.09476481 -14.3903983 ]\n",
      " [  3.2165999    4.09476481 -14.3903983 ]]\n"
     ]
    }
   ],
   "source": []
  },
  {
   "cell_type": "code",
   "execution_count": 81,
   "metadata": {},
   "outputs": [
    {
     "data": {
      "application/vnd.jupyter.widget-view+json": {
       "model_id": "f7e6970feac64a478206734faea917db",
       "version_major": 2,
       "version_minor": 0
      },
      "text/plain": [
       "HBox(children=(FloatProgress(value=0.0, max=5000.0), HTML(value='')))"
      ]
     },
     "metadata": {},
     "output_type": "display_data"
    },
    {
     "name": "stdout",
     "output_type": "stream",
     "text": [
      "\n",
      "[0.5648 0.553  0.5458 0.5478 0.533  0.5772 0.5274 0.5382 0.5682 0.5602\n",
      " 0.5592 0.5604 0.5428 0.5382 0.562  0.5506 0.5454 0.537  0.5718 0.5638]\n",
      "[51.41441177 66.19463011 51.7345795 ]\n"
     ]
    }
   ],
   "source": [
    "init_params = gp.get_parameter_vector()\n",
    "ndim = len(init_params)\n",
    "# set from the example\n",
    "nwalkers = 20\n",
    "# start from the best fit values\n",
    "initial_samples = gp.get_parameter_vector() + 1e-5 * np.random.randn(nwalkers, ndim)\n",
    "sampler = emcee.EnsembleSampler(nwalkers, ndim, log_probability, args=(y, gp))\n",
    "# burn in phase\n",
    "sampler.run_mcmc(initial_samples, 5000, progress=\"notebook\")\n",
    "#final_samples = sampler.get_chain(discard=500, thin=50, flat=True)\n",
    "acceptance_ratio = sampler.acceptance_fraction\n",
    "print(acceptance_ratio)\n",
    "tau = sampler.get_autocorr_time()\n",
    "print(tau)"
   ]
  },
  {
   "cell_type": "code",
   "execution_count": 22,
   "metadata": {},
   "outputs": [],
   "source": [
    "%matplotlib qt\n",
    "chain = sampler.get_chain(flat=True)\n",
    "fig, axes = plt.subplots(3, sharex=True, gridspec_kw={'hspace': 0, 'wspace': 0})\n",
    "means = np.mean(chain, axis=0)\n",
    "for param, parname, ax, mean in zip(chain.T, par_names, axes, means):\n",
    "    ax.plot(param, linestyle=\"None\", marker=\"+\", color=\"black\")\n",
    "    ax.set_ylabel(parname)\n",
    "    ax.axhline(y=mean)\n",
    "# This suggests that only about 40 steps are needed for the chain to “forget” where it started. It’s not unreasonable to throw away a few times \n",
    "# this number of steps as “burn-in”. Let’s discard the initial 100 steps, thin by about half the autocorrelation time (15 steps), \n",
    "# and flatten the chain so that we have a flat list of samples:"
   ]
  },
  {
   "cell_type": "code",
   "execution_count": 23,
   "metadata": {},
   "outputs": [],
   "source": [
    "discard = 1000\n",
    "for chain, parname, ax, mean in zip(chain.T, par_names, axes, means):\n",
    "    ax.axvline(discard * nwalkers, ls=\"--\", color=\"red\")\n",
    "final_samples = sampler.get_chain(discard=discard, thin=20, flat=True)"
   ]
  },
  {
   "cell_type": "code",
   "execution_count": 24,
   "metadata": {},
   "outputs": [],
   "source": [
    "# transform names to human\n",
    "names = list(gp.get_parameter_names())\n",
    "cols = [\"log_omega0\", \"log_S0\", \"log_Q\"]\n",
    "inds = [names.index(\"kernel:%s\" %c) for c in cols]\n",
    "samples = final_samples[:, inds]\n",
    "samples[:, :-1] = np.exp(samples[:, :-1])\n",
    "2 * np.pi / (np.exp(gp.get_parameter_dict()[\"kernel:log_omega0\"]) * 3600 * 24)\n",
    "ind_omega = names.index(\"kernel:%s\" % \"log_omega0\")\n",
    "samples[:,0] = 2 * np.pi / (samples[:,0]  * 3600 * 24)\n",
    "medians = np.median(samples, axis=0)\n",
    "ranges = [(median - 0.9 * median, median + 0.9 * median) for median in medians]\n",
    "corner_fig = corner.corner(samples, smooth=0.5, range=ranges,labels=[r\"$P$ (days)\", r\"$S_0$\", r\"Q\"], truths=medians)\n",
    "plt.show()"
   ]
  },
  {
   "cell_type": "markdown",
   "metadata": {},
   "source": [
    "## Plot PSD and Model "
   ]
  },
  {
   "cell_type": "code",
   "execution_count": 25,
   "metadata": {},
   "outputs": [
    {
     "data": {
      "text/plain": [
       "<ErrorbarContainer object of 3 artists>"
      ]
     },
     "execution_count": 25,
     "metadata": {},
     "output_type": "execute_result"
    }
   ],
   "source": [
    "# plot 24 different results\n",
    "model_figure, model_ax = plt.subplots()\n",
    "model_ax.set_xlabel(\"Days\")\n",
    "model_ax.set_ylabel(\"Count-rate ct/s [0.3 - 10 keV]\")\n",
    "psd_figure, psd_ax = plt.subplots()\n",
    "psd_ax.set_xlabel(\"Frequency [Days$^{-1}$]\")\n",
    "t_samples = 10000\n",
    "t = np.linspace(np.min(time), np.max(time), t_samples)\n",
    "min_f = np.exp(min_w)\n",
    "max_f = np.exp(max_w)\n",
    "frequencies = np.linspace(min_f, max_f, 5000)\n",
    "color=\"orange\"\n",
    "n_samples = 1000\n",
    "models = np.empty((n_samples, t_samples))\n",
    "for index, sample in enumerate(final_samples[np.random.randint(len(samples), size=n_samples)]):\n",
    "    gp.set_parameter_vector(sample)\n",
    "    psd = gp.kernel.get_psd(frequencies)\n",
    "    model = gp.predict(y, t, return_cov=False)\n",
    "    model_ax.plot(t  / 3600 / 24 , model, color=color, alpha=0.3)\n",
    "    psd_ax.plot(frequencies * 3600 * 24 / 2 / np.pi, psd, color=\"blue\", alpha=0.3)\n",
    "    models[index] = model\n",
    "median_model = np.percentile(models, 50, axis=0)\n",
    "#model_ax.plot(t  / 3600 / 24 , median_model, color=color)\n",
    "model_ax.errorbar(time / 3600 / 24, y, yerr=yerr, fmt=\".k\", capsize=0)"
   ]
  },
  {
   "cell_type": "code",
   "execution_count": 25,
   "metadata": {},
   "outputs": [
    {
     "data": {
      "text/plain": [
       "<matplotlib.collections.PolyCollection at 0x7fe3008522d0>"
      ]
     },
     "execution_count": 25,
     "metadata": {},
     "output_type": "execute_result"
    }
   ],
   "source": [
    "# plot 24 different results\n",
    "model_figure, model_ax = plt.subplots()\n",
    "model_ax.set_xlabel(\"Days\")\n",
    "model_ax.set_ylabel(\"Count-rate ct/s [0.3 - 10 keV]\")\n",
    "psd_figure, psd_ax = plt.subplots()\n",
    "psd_ax.set_xlabel(\"Frequency [Days$^{-1}$]\")\n",
    "t_samples = 10000\n",
    "t = np.linspace(np.min(time), np.max(time), t_samples)\n",
    "min_f = np.exp(min_w)\n",
    "max_f = np.exp(max_w)\n",
    "frequencies = np.linspace(min_f, max_f, 1000)\n",
    "color=\"orange\"\n",
    "n_samples = 1000\n",
    "psds = np.empty((n_samples, len(frequencies)))\n",
    "models = np.empty((n_samples, t_samples))\n",
    "for index, sample in enumerate(final_samples[np.random.randint(len(samples), size=n_samples)]):\n",
    "    gp.set_parameter_vector(sample)\n",
    "    models[index] = gp.predict(y, t, return_cov=False)\n",
    "    psds[index] = gp.kernel.get_psd(frequencies)\n",
    "\n",
    "p = np.percentile(psds, [32, 50, 68], axis=0)\n",
    "m = np.percentile(models, [32, 50, 68], axis=0)\n",
    "model_ax.plot(t  / 3600 / 24 , m[1], color=color)\n",
    "model_ax.fill_between(t / 3600 / 24, m[0], m[2], alpha=0.3, color=color)\n",
    "model_ax.errorbar(time / 3600 / 24, y, yerr=yerr, fmt=\".k\", capsize=0)\n",
    "psd_ax.plot(frequencies * 3600 * 24 / 2 / np.pi, p[1], color=\"blue\")\n",
    "psd_ax.fill_between(frequencies * 3600 * 24 / 2 / np.pi, p[0], p[2], color=\"blue\", alpha=0.3)"
   ]
  },
  {
   "cell_type": "code",
   "execution_count": null,
   "metadata": {},
   "outputs": [],
   "source": []
  }
 ],
 "metadata": {
  "kernelspec": {
   "display_name": "Python 3",
   "language": "python",
   "name": "python3"
  }
 },
 "nbformat": 4,
 "nbformat_minor": 2
}
